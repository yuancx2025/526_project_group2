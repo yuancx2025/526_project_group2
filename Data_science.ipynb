{
  "nbformat": 4,
  "nbformat_minor": 0,
  "metadata": {
    "colab": {
      "provenance": [],
      "authorship_tag": "ABX9TyOM4C72BXbrweQciBdcnXwv",
      "include_colab_link": true
    },
    "kernelspec": {
      "name": "python3",
      "display_name": "Python 3"
    },
    "language_info": {
      "name": "python"
    }
  },
  "cells": [
    {
      "cell_type": "markdown",
      "metadata": {
        "id": "view-in-github",
        "colab_type": "text"
      },
      "source": [
        "<a href=\"https://colab.research.google.com/github/yuancx2025/526_project_group2/blob/main/Data_science.ipynb\" target=\"_parent\"><img src=\"https://colab.research.google.com/assets/colab-badge.svg\" alt=\"Open In Colab\"/></a>"
      ]
    },
    {
      "cell_type": "markdown",
      "source": [
        "Input the ticket level data"
      ],
      "metadata": {
        "id": "8OQ_DdmI5zei"
      }
    },
    {
      "cell_type": "code",
      "source": [
        "!pip install pyreadstat"
      ],
      "metadata": {
        "colab": {
          "base_uri": "https://localhost:8080/"
        },
        "id": "x-sN9LHE9Njd",
        "outputId": "3c66342a-726f-42f3-8edd-dac8972281bc"
      },
      "execution_count": null,
      "outputs": [
        {
          "output_type": "stream",
          "name": "stdout",
          "text": [
            "Collecting pyreadstat\n",
            "  Downloading pyreadstat-1.3.1-cp312-cp312-manylinux2014_x86_64.manylinux_2_17_x86_64.whl.metadata (1.2 kB)\n",
            "Requirement already satisfied: narwhals>=1.47 in /usr/local/lib/python3.12/dist-packages (from pyreadstat) (2.8.0)\n",
            "Requirement already satisfied: numpy in /usr/local/lib/python3.12/dist-packages (from pyreadstat) (2.0.2)\n",
            "Downloading pyreadstat-1.3.1-cp312-cp312-manylinux2014_x86_64.manylinux_2_17_x86_64.whl (666 kB)\n",
            "\u001b[2K   \u001b[90m━━━━━━━━━━━━━━━━━━━━━━━━━━━━━━━━━━━━━━━━\u001b[0m \u001b[32m666.4/666.4 kB\u001b[0m \u001b[31m10.8 MB/s\u001b[0m eta \u001b[36m0:00:00\u001b[0m\n",
            "\u001b[?25hInstalling collected packages: pyreadstat\n",
            "Successfully installed pyreadstat-1.3.1\n"
          ]
        }
      ]
    },
    {
      "cell_type": "code",
      "execution_count": null,
      "metadata": {
        "colab": {
          "base_uri": "https://localhost:8080/",
          "height": 347
        },
        "id": "wrUsBv2O5vEI",
        "outputId": "6953a22d-d2c0-490b-e30c-f1b2e60cc876"
      },
      "outputs": [
        {
          "output_type": "error",
          "ename": "MessageError",
          "evalue": "Error: credential propagation was unsuccessful",
          "traceback": [
            "\u001b[0;31m---------------------------------------------------------------------------\u001b[0m",
            "\u001b[0;31mMessageError\u001b[0m                              Traceback (most recent call last)",
            "\u001b[0;32m/tmp/ipython-input-3518943968.py\u001b[0m in \u001b[0;36m<cell line: 0>\u001b[0;34m()\u001b[0m\n\u001b[1;32m      1\u001b[0m \u001b[0;32mfrom\u001b[0m \u001b[0mgoogle\u001b[0m\u001b[0;34m.\u001b[0m\u001b[0mcolab\u001b[0m \u001b[0;32mimport\u001b[0m \u001b[0mdrive\u001b[0m\u001b[0;34m\u001b[0m\u001b[0;34m\u001b[0m\u001b[0m\n\u001b[0;32m----> 2\u001b[0;31m \u001b[0mdrive\u001b[0m\u001b[0;34m.\u001b[0m\u001b[0mmount\u001b[0m\u001b[0;34m(\u001b[0m\u001b[0;34m'/content/drive'\u001b[0m\u001b[0;34m)\u001b[0m\u001b[0;34m\u001b[0m\u001b[0;34m\u001b[0m\u001b[0m\n\u001b[0m\u001b[1;32m      3\u001b[0m \u001b[0mfile_path\u001b[0m \u001b[0;34m=\u001b[0m \u001b[0;34m\"/content/drive/MyDrive/KG_cost.dta\"\u001b[0m\u001b[0;34m\u001b[0m\u001b[0;34m\u001b[0m\u001b[0m\n",
            "\u001b[0;32m/usr/local/lib/python3.12/dist-packages/google/colab/drive.py\u001b[0m in \u001b[0;36mmount\u001b[0;34m(mountpoint, force_remount, timeout_ms, readonly)\u001b[0m\n\u001b[1;32m     95\u001b[0m \u001b[0;32mdef\u001b[0m \u001b[0mmount\u001b[0m\u001b[0;34m(\u001b[0m\u001b[0mmountpoint\u001b[0m\u001b[0;34m,\u001b[0m \u001b[0mforce_remount\u001b[0m\u001b[0;34m=\u001b[0m\u001b[0;32mFalse\u001b[0m\u001b[0;34m,\u001b[0m \u001b[0mtimeout_ms\u001b[0m\u001b[0;34m=\u001b[0m\u001b[0;36m120000\u001b[0m\u001b[0;34m,\u001b[0m \u001b[0mreadonly\u001b[0m\u001b[0;34m=\u001b[0m\u001b[0;32mFalse\u001b[0m\u001b[0;34m)\u001b[0m\u001b[0;34m:\u001b[0m\u001b[0;34m\u001b[0m\u001b[0;34m\u001b[0m\u001b[0m\n\u001b[1;32m     96\u001b[0m   \u001b[0;34m\"\"\"Mount your Google Drive at the specified mountpoint path.\"\"\"\u001b[0m\u001b[0;34m\u001b[0m\u001b[0;34m\u001b[0m\u001b[0m\n\u001b[0;32m---> 97\u001b[0;31m   return _mount(\n\u001b[0m\u001b[1;32m     98\u001b[0m       \u001b[0mmountpoint\u001b[0m\u001b[0;34m,\u001b[0m\u001b[0;34m\u001b[0m\u001b[0;34m\u001b[0m\u001b[0m\n\u001b[1;32m     99\u001b[0m       \u001b[0mforce_remount\u001b[0m\u001b[0;34m=\u001b[0m\u001b[0mforce_remount\u001b[0m\u001b[0;34m,\u001b[0m\u001b[0;34m\u001b[0m\u001b[0;34m\u001b[0m\u001b[0m\n",
            "\u001b[0;32m/usr/local/lib/python3.12/dist-packages/google/colab/drive.py\u001b[0m in \u001b[0;36m_mount\u001b[0;34m(mountpoint, force_remount, timeout_ms, ephemeral, readonly)\u001b[0m\n\u001b[1;32m    132\u001b[0m   )\n\u001b[1;32m    133\u001b[0m   \u001b[0;32mif\u001b[0m \u001b[0mephemeral\u001b[0m\u001b[0;34m:\u001b[0m\u001b[0;34m\u001b[0m\u001b[0;34m\u001b[0m\u001b[0m\n\u001b[0;32m--> 134\u001b[0;31m     _message.blocking_request(\n\u001b[0m\u001b[1;32m    135\u001b[0m         \u001b[0;34m'request_auth'\u001b[0m\u001b[0;34m,\u001b[0m\u001b[0;34m\u001b[0m\u001b[0;34m\u001b[0m\u001b[0m\n\u001b[1;32m    136\u001b[0m         \u001b[0mrequest\u001b[0m\u001b[0;34m=\u001b[0m\u001b[0;34m{\u001b[0m\u001b[0;34m'authType'\u001b[0m\u001b[0;34m:\u001b[0m \u001b[0;34m'dfs_ephemeral'\u001b[0m\u001b[0;34m}\u001b[0m\u001b[0;34m,\u001b[0m\u001b[0;34m\u001b[0m\u001b[0;34m\u001b[0m\u001b[0m\n",
            "\u001b[0;32m/usr/local/lib/python3.12/dist-packages/google/colab/_message.py\u001b[0m in \u001b[0;36mblocking_request\u001b[0;34m(request_type, request, timeout_sec, parent)\u001b[0m\n\u001b[1;32m    174\u001b[0m       \u001b[0mrequest_type\u001b[0m\u001b[0;34m,\u001b[0m \u001b[0mrequest\u001b[0m\u001b[0;34m,\u001b[0m \u001b[0mparent\u001b[0m\u001b[0;34m=\u001b[0m\u001b[0mparent\u001b[0m\u001b[0;34m,\u001b[0m \u001b[0mexpect_reply\u001b[0m\u001b[0;34m=\u001b[0m\u001b[0;32mTrue\u001b[0m\u001b[0;34m\u001b[0m\u001b[0;34m\u001b[0m\u001b[0m\n\u001b[1;32m    175\u001b[0m   )\n\u001b[0;32m--> 176\u001b[0;31m   \u001b[0;32mreturn\u001b[0m \u001b[0mread_reply_from_input\u001b[0m\u001b[0;34m(\u001b[0m\u001b[0mrequest_id\u001b[0m\u001b[0;34m,\u001b[0m \u001b[0mtimeout_sec\u001b[0m\u001b[0;34m)\u001b[0m\u001b[0;34m\u001b[0m\u001b[0;34m\u001b[0m\u001b[0m\n\u001b[0m",
            "\u001b[0;32m/usr/local/lib/python3.12/dist-packages/google/colab/_message.py\u001b[0m in \u001b[0;36mread_reply_from_input\u001b[0;34m(message_id, timeout_sec)\u001b[0m\n\u001b[1;32m    101\u001b[0m     ):\n\u001b[1;32m    102\u001b[0m       \u001b[0;32mif\u001b[0m \u001b[0;34m'error'\u001b[0m \u001b[0;32min\u001b[0m \u001b[0mreply\u001b[0m\u001b[0;34m:\u001b[0m\u001b[0;34m\u001b[0m\u001b[0;34m\u001b[0m\u001b[0m\n\u001b[0;32m--> 103\u001b[0;31m         \u001b[0;32mraise\u001b[0m \u001b[0mMessageError\u001b[0m\u001b[0;34m(\u001b[0m\u001b[0mreply\u001b[0m\u001b[0;34m[\u001b[0m\u001b[0;34m'error'\u001b[0m\u001b[0;34m]\u001b[0m\u001b[0;34m)\u001b[0m\u001b[0;34m\u001b[0m\u001b[0;34m\u001b[0m\u001b[0m\n\u001b[0m\u001b[1;32m    104\u001b[0m       \u001b[0;32mreturn\u001b[0m \u001b[0mreply\u001b[0m\u001b[0;34m.\u001b[0m\u001b[0mget\u001b[0m\u001b[0;34m(\u001b[0m\u001b[0;34m'data'\u001b[0m\u001b[0;34m,\u001b[0m \u001b[0;32mNone\u001b[0m\u001b[0;34m)\u001b[0m\u001b[0;34m\u001b[0m\u001b[0;34m\u001b[0m\u001b[0m\n\u001b[1;32m    105\u001b[0m \u001b[0;34m\u001b[0m\u001b[0m\n",
            "\u001b[0;31mMessageError\u001b[0m: Error: credential propagation was unsuccessful"
          ]
        }
      ],
      "source": [
        "from google.colab import drive\n",
        "drive.mount('/content/drive')\n",
        "file_path = \"/content/drive/MyDrive/KG_cost.dta\""
      ]
    },
    {
      "cell_type": "markdown",
      "source": [
        "Input graph level data (help visualize)"
      ],
      "metadata": {
        "id": "wH9Uzn_l7uZG"
      }
    },
    {
      "cell_type": "code",
      "source": [
        "import pandas as pd\n",
        "\n",
        "airports_raw = pd.read_csv(\n",
        "    \"https://raw.githubusercontent.com/jpatokal/openflights/master/data/airports.dat\",\n",
        "    header=None\n",
        ")\n",
        "\n",
        "\n",
        "airports = airports_raw[[1, 2, 3, 4, 5, 6, 7, 8, 9]]\n",
        "airports.columns = [\"airport_name\", \"city\", \"country\", \"IATA\", \"ICAO\", \"lat\", \"lon\", \"alt\", \"timezone\"]\n",
        "\n",
        "\n",
        "airports = airports[airports[\"IATA\"].notna()]\n",
        "airports.head()"
      ],
      "metadata": {
        "id": "EeNlnMhj7z_J"
      },
      "execution_count": null,
      "outputs": []
    },
    {
      "cell_type": "markdown",
      "source": [
        "Combine tow data."
      ],
      "metadata": {
        "id": "CdAbU8qw8nuG"
      }
    },
    {
      "cell_type": "code",
      "source": [
        "\n",
        "data = data.merge(\n",
        "    airports[[\"IATA\", \"lat\", \"lon\", \"country\", \"city\"]],\n",
        "    how=\"left\",\n",
        "    left_on=\"origin\",\n",
        "    right_on=\"IATA\"\n",
        ").rename(columns={\n",
        "    \"lat\": \"origin_lat\",\n",
        "    \"lon\": \"origin_lon\",\n",
        "    \"country\": \"origin_country\",\n",
        "    \"city\": \"origin_city\"\n",
        "})"
      ],
      "metadata": {
        "id": "XkMDIEMf8xQS"
      },
      "execution_count": null,
      "outputs": []
    },
    {
      "cell_type": "code",
      "source": [
        "# Merge destination coordinates\n",
        "data = data.merge(\n",
        "    airports[[\"IATA\", \"lat\", \"lon\", \"country\", \"city\"]],\n",
        "    how=\"left\",\n",
        "    left_on=\"dest\",\n",
        "    right_on=\"IATA\"\n",
        ").rename(columns={\n",
        "    \"lat\": \"dest_lat\",\n",
        "    \"lon\": \"dest_lon\",\n",
        "    \"country\": \"dest_country\",\n",
        "    \"city\": \"dest_city\"\n",
        "})"
      ],
      "metadata": {
        "id": "PhNiYrIO-pV_"
      },
      "execution_count": null,
      "outputs": []
    },
    {
      "cell_type": "markdown",
      "source": [
        "Check merge level and shrink into US ariline market"
      ],
      "metadata": {
        "id": "54DEMnPA_Zwr"
      }
    },
    {
      "cell_type": "code",
      "source": [
        "data[[\"origin\", \"origin_lat\", \"origin_lon\", \"dest\", \"dest_lat\", \"dest_lon\"]].head()\n",
        "data[\"origin_lat\"].notna().mean(), data[\"dest_lat\"].notna().mean()\n",
        "data_us = data[(data[\"origin_country\"]==\"United States\") &\n",
        "               (data[\"dest_country\"]==\"United States\")]"
      ],
      "metadata": {
        "id": "Q7OGJQdR_YT_"
      },
      "execution_count": null,
      "outputs": []
    },
    {
      "cell_type": "code",
      "source": [
        "routes_2005 = (data_us[data_us[\"year\"]==2005]\n",
        "               .groupby([\"origin\",\"dest\"], as_index=False)\n",
        "               .agg({\"origin_lat\":\"first\",\"origin_lon\":\"first\",\n",
        "                     \"dest_lat\":\"first\",\"dest_lon\":\"first\",\n",
        "                     \"HHI_route\":\"mean\"}))\n",
        "routes_2005[\"market_type\"] = pd.cut(\n",
        "    routes_2005[\"HHI_route\"],\n",
        "    bins=[-float(\"inf\"), 0.2, 0.6, float(\"inf\")],\n",
        "    labels=[\"competitive\", \"oligopoly\", \"monopoly\"]\n",
        ")"
      ],
      "metadata": {
        "id": "DQrvYfgS_-fv"
      },
      "execution_count": null,
      "outputs": []
    },
    {
      "cell_type": "markdown",
      "source": [
        "Graph the"
      ],
      "metadata": {
        "id": "CU2Oh5V2BSh8"
      }
    },
    {
      "cell_type": "code",
      "source": [
        "import seaborn as sns\n",
        "import matplotlib.pyplot as plt\n",
        "\n",
        "sns.countplot(data=routes_2005,\n",
        "              x=\"market_type\",\n",
        "              order=[\"competitive\",\"oligopoly\",\"monopoly\"],\n",
        "              palette={\"competitive\":\"#1b9e77\",\n",
        "                       \"oligopoly\":\"#d95f02\",\n",
        "                       \"monopoly\":\"#7570b3\"})\n",
        "plt.title(\"Number of Routes by Market Type (2005)\")\n",
        "plt.xlabel(\"Market Type\")\n",
        "plt.ylabel(\"Number of Routes\")\n",
        "plt.show()"
      ],
      "metadata": {
        "id": "87yZOjXND0uP"
      },
      "execution_count": null,
      "outputs": []
    },
    {
      "cell_type": "code",
      "source": [
        "import geopandas as gpd\n",
        "import matplotlib.pyplot as plt\n",
        "import geodatasets\n",
        "\n",
        "# --- US basemap ---\n",
        "world = gpd.read_file(geodatasets.get_path(\"naturalearth.land\"))\n",
        "usa = world.cx[-130:-65, 24:50]\n",
        "\n",
        "# --- choose a small sample to reduce clutter ---\n",
        "routes_sample = routes_2005.sample(frac=0.15, random_state=42)\n",
        "\n",
        "# --- (re‑)build geometry safely ---\n",
        "from shapely.geometry import LineString\n",
        "routes_sample = routes_sample.dropna(subset=[\"origin_lon\",\"origin_lat\",\"dest_lon\",\"dest_lat\"])\n",
        "routes_sample[\"geometry\"] = [\n",
        "    LineString([(r.origin_lon, r.origin_lat), (r.dest_lon, r.dest_lat)])\n",
        "    for _, r in routes_sample.iterrows()\n",
        "]\n",
        "routes_gdf = gpd.GeoDataFrame(routes_sample, geometry=\"geometry\", crs=\"EPSG:4326\")\n",
        "\n",
        "color_map = {\n",
        "    \"competitive\": \"#1b9e77\",\n",
        "    \"oligopoly\": \"#d95f02\",\n",
        "    \"monopoly\": \"#7570b3\"\n",
        "}\n",
        "\n",
        "fig, ax = plt.subplots(figsize=(10, 6))\n",
        "usa.plot(ax=ax, color=\"lightgray\", edgecolor=\"white\")\n",
        "\n",
        "# --- plot each market type if it exists ---\n",
        "for label, color in color_map.items():\n",
        "    subset = routes_gdf[routes_gdf[\"market_type\"] == label]\n",
        "    if len(subset) > 0 and subset.geometry.notna().any():\n",
        "        subset = subset[subset.geometry.is_valid]\n",
        "        subset.plot(ax=ax, color=color, linewidth=0.4,\n",
        "                    alpha=0.4, label=label)\n",
        "\n",
        "# --- decorations ---\n",
        "plt.legend(title=\"Market Type\", loc=\"lower left\", frameon=True)\n",
        "plt.title(\"U.S. Airline Routes by Market Type (2005)\", fontsize=14, weight=\"bold\")\n",
        "plt.xlim(-130, -65)\n",
        "plt.ylim(24, 50)\n",
        "plt.axis(\"off\")\n",
        "plt.tight_layout()\n",
        "plt.show()"
      ],
      "metadata": {
        "id": "Wqmt3UMxBUeU"
      },
      "execution_count": null,
      "outputs": []
    }
  ]
}